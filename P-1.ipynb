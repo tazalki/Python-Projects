{
 "cells": [
  {
   "cell_type": "markdown",
   "id": "9b65eea2",
   "metadata": {},
   "source": [
    "# Live Weather Updates\n",
    "\n",
    "\n"
   ]
  },
  {
   "cell_type": "code",
   "execution_count": 1,
   "id": "f7022211",
   "metadata": {},
   "outputs": [
    {
     "name": "stdout",
     "output_type": "stream",
     "text": [
      "Enter the Name of Any City >>>>>  PUNE\n",
      "Wait!! Searching......\n",
      "\n",
      "Pune, Maharashtra\n",
      "Wednesday, 11:00 am\n",
      "Mostly cloudy\n",
      "27°C\n"
     ]
    }
   ],
   "source": [
    "from bs4 import BeautifulSoup  \n",
    "import requests\n",
    "headers = {'User-Agent': 'Mozilla/5.0 (Windows NT 10.0; Win64; x64) AppleWebKit/537.36 (KHTML, like Gecko) Chrome/58.0.3029.110 Safari/537.3'}\n",
    "\n",
    "def weather(city):\n",
    "    city=city.replace(\" \",\"+\")\n",
    "    res = requests.get(f'https://www.google.com/search?q={city}&oq={city}&aqs=chrome.0.35i39l2j0l4j46j69i60.6128j1j7&sourceid=chrome&ie=UTF-8',headers=headers)\n",
    "    print(\"Wait!! Searching......\\n\")\n",
    "    soup = BeautifulSoup(res.text,'html.parser')   \n",
    "    location = soup.select('#wob_loc')[0].getText().strip()  \n",
    "    time = soup.select('#wob_dts')[0].getText().strip()       \n",
    "    info = soup.select('#wob_dc')[0].getText().strip() \n",
    "    weather = soup.select('#wob_tm')[0].getText().strip()\n",
    "    print(location)\n",
    "    print(time)\n",
    "    print(info)\n",
    "    print(weather+\"°C\") \n",
    "\n",
    "city=input(\"Enter the Name of Any City >>>>>  \")\n",
    "city=city+\" weather\"\n",
    "weather(city)"
   ]
  }
 ],
 "metadata": {
  "kernelspec": {
   "display_name": "Python 3",
   "language": "python",
   "name": "python3"
  },
  "language_info": {
   "codemirror_mode": {
    "name": "ipython",
    "version": 3
   },
   "file_extension": ".py",
   "mimetype": "text/x-python",
   "name": "python",
   "nbconvert_exporter": "python",
   "pygments_lexer": "ipython3",
   "version": "3.8.8"
  }
 },
 "nbformat": 4,
 "nbformat_minor": 5
}
