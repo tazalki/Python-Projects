{
  "nbformat": 4,
  "nbformat_minor": 0,
  "metadata": {
    "colab": {
      "name": "P2.ipynb",
      "provenance": []
    },
    "kernelspec": {
      "name": "python3",
      "display_name": "Python 3"
    },
    "language_info": {
      "name": "python"
    }
  },
  "cells": [
    {
      "cell_type": "markdown",
      "metadata": {
        "id": "P6GBunJ3ds4s"
      },
      "source": [
        "# AGE CALCULATOR"
      ]
    },
    {
      "cell_type": "code",
      "metadata": {
        "colab": {
          "base_uri": "https://localhost:8080/"
        },
        "id": "eAzSxI7tdoKV",
        "outputId": "51c6cdfd-fbc7-4caf-fec1-d2f3fe7e7371"
      },
      "source": [
        "def ageCalculator(y, m, d):\n",
        "    import datetime\n",
        "    today = datetime.datetime.now().date()\n",
        "    dob = datetime.date(y, m, d)\n",
        "    age = int((today-dob).days / 365.25)\n",
        "    print(age)\n",
        "ageCalculator(2000, 9, 3)"
      ],
      "execution_count": 9,
      "outputs": [
        {
          "output_type": "stream",
          "name": "stdout",
          "text": [
            "21\n"
          ]
        }
      ]
    }
  ]
}