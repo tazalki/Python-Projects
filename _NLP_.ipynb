{
  "nbformat": 4,
  "nbformat_minor": 0,
  "metadata": {
    "colab": {
      "provenance": [],
      "include_colab_link": true
    },
    "kernelspec": {
      "name": "python3",
      "display_name": "Python 3"
    },
    "language_info": {
      "name": "python"
    }
  },
  "cells": [
    {
      "cell_type": "markdown",
      "metadata": {
        "id": "view-in-github",
        "colab_type": "text"
      },
      "source": [
        "<a href=\"https://colab.research.google.com/github/tazalki/Python-Projects/blob/main/_NLP_.ipynb\" target=\"_parent\"><img src=\"https://colab.research.google.com/assets/colab-badge.svg\" alt=\"Open In Colab\"/></a>"
      ]
    },
    {
      "cell_type": "markdown",
      "source": [
        "**Assignment No.: 5**\n",
        "\n",
        "**Name:- TEJASWINI ASHOK ZALKI **\n",
        "\n",
        "**Roll No.:- BECOC358**\n",
        "\n",
        "**Title:-**  Morphology is the study of the way words are built up from smaller meaning bearing units. Study and understand the concepts of morphology by the use of add delete table."
      ],
      "metadata": {
        "id": "0PCiSzIc1N23"
      }
    },
    {
      "cell_type": "code",
      "source": [
        "def add_prefix(word, prefix):\n",
        "    return prefix + word\n"
      ],
      "metadata": {
        "id": "RgE8MeV12G5H"
      },
      "execution_count": 2,
      "outputs": []
    },
    {
      "cell_type": "code",
      "source": [
        "def delete_prefix(word, prefix):\n",
        "    if word.startswith(prefix):\n",
        "        return word[len(prefix):]\n",
        "    return word"
      ],
      "metadata": {
        "id": "XsP-n6xE2MDP"
      },
      "execution_count": 3,
      "outputs": []
    },
    {
      "cell_type": "code",
      "source": [
        "def add_suffix(word, suffix):\n",
        "    return word + suffix\n"
      ],
      "metadata": {
        "id": "SEJQzuRw2Prf"
      },
      "execution_count": 4,
      "outputs": []
    },
    {
      "cell_type": "code",
      "source": [
        "def delete_suffix(word, suffix):\n",
        "    if word.endswith(suffix):\n",
        "        return word[:-len(suffix)]\n",
        "    return word"
      ],
      "metadata": {
        "id": "lQLLcNwq2Tsi"
      },
      "execution_count": 5,
      "outputs": []
    },
    {
      "cell_type": "code",
      "source": [
        "# Example usage\n",
        "word = \"play\"\n",
        "prefix = \"re\"\n",
        "suffix = \"ing\"\n"
      ],
      "metadata": {
        "id": "vjQWSlJy2Wtn"
      },
      "execution_count": 6,
      "outputs": []
    },
    {
      "cell_type": "code",
      "source": [
        "# Add prefix\n",
        "new_word = add_prefix(word, prefix)\n",
        "print(\"Add Prefix:\", new_word)  # Output: replay\n",
        "\n",
        "# Delete prefix\n",
        "new_word = delete_prefix(new_word, prefix)\n",
        "print(\"Delete Prefix:\", new_word)  # Output: play\n",
        "\n",
        "# Add suffix\n",
        "new_word = add_suffix(word, suffix)\n",
        "print(\"Add Suffix:\", new_word)  # Output: playing\n",
        "\n",
        "# Delete suffix\n",
        "new_word = delete_suffix(new_word, suffix)\n",
        "print(\"Delete Suffix:\", new_word)  # Output: play"
      ],
      "metadata": {
        "colab": {
          "base_uri": "https://localhost:8080/",
          "height": 0
        },
        "id": "Czv1sq2u2ago",
        "outputId": "ad1d1aed-7bb5-4bee-887c-9c18b4aa8e0b"
      },
      "execution_count": 7,
      "outputs": [
        {
          "output_type": "stream",
          "name": "stdout",
          "text": [
            "Add Prefix: replay\n",
            "Delete Prefix: play\n",
            "Add Suffix: playing\n",
            "Delete Suffix: play\n"
          ]
        }
      ]
    },
    {
      "cell_type": "code",
      "source": [
        "def generate_plural(base_form):\n",
        "    if base_form.endswith('s') or base_form.endswith('x') or base_form.endswith('ch') or base_form.endswith('sh'):\n",
        "        return base_form + 'es'\n",
        "    else:\n",
        "        return base_form + 's'\n",
        "\n",
        "# List of base forms\n",
        "base_forms = ['cat', 'dog', 'box']\n",
        "\n",
        "# Header row of the table\n",
        "header = ['Base Form', 'Plural']\n",
        "\n",
        "# Create the add-delete table\n",
        "table = [header]\n",
        "\n",
        "# Fill in the table by applying the morphological changes\n",
        "for base_form in base_forms:\n",
        "    plural_form = generate_plural(base_form)\n",
        "    table.append([base_form, plural_form])\n",
        "\n",
        "# Print the add-delete table\n",
        "for row in table:\n",
        "    print('\\t'.join(row))\n"
      ],
      "metadata": {
        "colab": {
          "base_uri": "https://localhost:8080/",
          "height": 0
        },
        "id": "-PbG9YW3kTJ5",
        "outputId": "944086d6-fc00-4495-9aa4-4957fb6d36d9"
      },
      "execution_count": 1,
      "outputs": [
        {
          "output_type": "stream",
          "name": "stdout",
          "text": [
            "Base Form\tPlural\n",
            "cat\tcats\n",
            "dog\tdogs\n",
            "box\tboxes\n"
          ]
        }
      ]
    }
  ]
}